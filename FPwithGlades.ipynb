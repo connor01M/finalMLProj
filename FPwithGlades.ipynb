{
  "nbformat": 4,
  "nbformat_minor": 0,
  "metadata": {
    "colab": {
      "name": "FPwithGlades.ipynb",
      "provenance": []
    },
    "kernelspec": {
      "name": "python3",
      "display_name": "Python 3"
    },
    "language_info": {
      "name": "python"
    }
  },
  "cells": [
    {
      "cell_type": "code",
      "execution_count": 5,
      "metadata": {
        "colab": {
          "base_uri": "https://localhost:8080/",
          "height": 1000
        },
        "id": "vcnivjnOgHfN",
        "outputId": "c8da75aa-e2fb-4c1a-bf9d-8fe0f6a3aa9e"
      },
      "outputs": [
        {
          "output_type": "error",
          "ename": "KeyboardInterrupt",
          "evalue": "ignored",
          "traceback": [
            "\u001b[1;31m---------------------------------------------------------------------------\u001b[0m",
            "\u001b[1;31mKeyboardInterrupt\u001b[0m                         Traceback (most recent call last)",
            "Input \u001b[1;32mIn [5]\u001b[0m, in \u001b[0;36m<module>\u001b[1;34m\u001b[0m\n\u001b[0;32m      8\u001b[0m sys\u001b[38;5;241m.\u001b[39mpath\u001b[38;5;241m.\u001b[39mappend(\u001b[38;5;124mr\u001b[39m\u001b[38;5;124m'\u001b[39m\u001b[38;5;124mC:\u001b[39m\u001b[38;5;124m\\\u001b[39m\u001b[38;5;124mUsers\u001b[39m\u001b[38;5;124m\\\u001b[39m\u001b[38;5;124mConnor McPeak\u001b[39m\u001b[38;5;124m\\\u001b[39m\u001b[38;5;124mDocuments\u001b[39m\u001b[38;5;124m\\\u001b[39m\u001b[38;5;124mMACHINELearning\u001b[39m\u001b[38;5;124m\\\u001b[39m\u001b[38;5;124mFinalProj Data Generation\u001b[39m\u001b[38;5;124m'\u001b[39m)\n\u001b[0;32m      9\u001b[0m \u001b[38;5;66;03m# load the locationLatLong data set\u001b[39;00m\n\u001b[1;32m---> 10\u001b[0m locationLatLong_data \u001b[38;5;241m=\u001b[39m \u001b[43mpandas\u001b[49m\u001b[38;5;241;43m.\u001b[39;49m\u001b[43mread_csv\u001b[49m\u001b[43m(\u001b[49m\u001b[38;5;124;43mr\u001b[39;49m\u001b[38;5;124;43m\"\u001b[39;49m\u001b[38;5;124;43mC:\u001b[39;49m\u001b[38;5;124;43m\\\u001b[39;49m\u001b[38;5;124;43mUsers\u001b[39;49m\u001b[38;5;124;43m\\\u001b[39;49m\u001b[38;5;124;43mConnor McPeak\u001b[39;49m\u001b[38;5;124;43m\\\u001b[39;49m\u001b[38;5;124;43mDocuments\u001b[39;49m\u001b[38;5;124;43m\\\u001b[39;49m\u001b[38;5;124;43mMACHINELearning\u001b[39;49m\u001b[38;5;124;43m\\\u001b[39;49m\u001b[38;5;124;43mFinalProj Data Generation\u001b[39;49m\u001b[38;5;124;43m\\\u001b[39;49m\u001b[38;5;124;43mlookingfor1Dataset - Copy (2).data\u001b[39;49m\u001b[38;5;124;43m\"\u001b[39;49m\u001b[43m)\u001b[49m\n\u001b[0;32m     11\u001b[0m \u001b[38;5;66;03m# instantiate the glades class\u001b[39;00m\n\u001b[0;32m     12\u001b[0m rf \u001b[38;5;241m=\u001b[39m glades\u001b[38;5;241m.\u001b[39mGladesClassifier()\n",
            "File \u001b[1;32m~\\AppData\\Local\\Packages\\PythonSoftwareFoundation.Python.3.9_qbz5n2kfra8p0\\LocalCache\\local-packages\\Python39\\site-packages\\pandas\\io\\parsers.py:676\u001b[0m, in \u001b[0;36m_make_parser_function.<locals>.parser_f\u001b[1;34m(filepath_or_buffer, sep, delimiter, header, names, index_col, usecols, squeeze, prefix, mangle_dupe_cols, dtype, engine, converters, true_values, false_values, skipinitialspace, skiprows, skipfooter, nrows, na_values, keep_default_na, na_filter, verbose, skip_blank_lines, parse_dates, infer_datetime_format, keep_date_col, date_parser, dayfirst, cache_dates, iterator, chunksize, compression, thousands, decimal, lineterminator, quotechar, quoting, doublequote, escapechar, comment, encoding, dialect, error_bad_lines, warn_bad_lines, delim_whitespace, low_memory, memory_map, float_precision)\u001b[0m\n\u001b[0;32m    623\u001b[0m     engine_specified \u001b[38;5;241m=\u001b[39m \u001b[38;5;28;01mFalse\u001b[39;00m\n\u001b[0;32m    625\u001b[0m kwds\u001b[38;5;241m.\u001b[39mupdate(\n\u001b[0;32m    626\u001b[0m     delimiter\u001b[38;5;241m=\u001b[39mdelimiter,\n\u001b[0;32m    627\u001b[0m     engine\u001b[38;5;241m=\u001b[39mengine,\n\u001b[1;32m   (...)\u001b[0m\n\u001b[0;32m    673\u001b[0m     skip_blank_lines\u001b[38;5;241m=\u001b[39mskip_blank_lines,\n\u001b[0;32m    674\u001b[0m )\n\u001b[1;32m--> 676\u001b[0m \u001b[38;5;28;01mreturn\u001b[39;00m \u001b[43m_read\u001b[49m\u001b[43m(\u001b[49m\u001b[43mfilepath_or_buffer\u001b[49m\u001b[43m,\u001b[49m\u001b[43m \u001b[49m\u001b[43mkwds\u001b[49m\u001b[43m)\u001b[49m\n",
            "File \u001b[1;32m~\\AppData\\Local\\Packages\\PythonSoftwareFoundation.Python.3.9_qbz5n2kfra8p0\\LocalCache\\local-packages\\Python39\\site-packages\\pandas\\io\\parsers.py:454\u001b[0m, in \u001b[0;36m_read\u001b[1;34m(filepath_or_buffer, kwds)\u001b[0m\n\u001b[0;32m    451\u001b[0m     \u001b[38;5;28;01mreturn\u001b[39;00m parser\n\u001b[0;32m    453\u001b[0m \u001b[38;5;28;01mtry\u001b[39;00m:\n\u001b[1;32m--> 454\u001b[0m     data \u001b[38;5;241m=\u001b[39m \u001b[43mparser\u001b[49m\u001b[38;5;241;43m.\u001b[39;49m\u001b[43mread\u001b[49m\u001b[43m(\u001b[49m\u001b[43mnrows\u001b[49m\u001b[43m)\u001b[49m\n\u001b[0;32m    455\u001b[0m \u001b[38;5;28;01mfinally\u001b[39;00m:\n\u001b[0;32m    456\u001b[0m     parser\u001b[38;5;241m.\u001b[39mclose()\n",
            "File \u001b[1;32m~\\AppData\\Local\\Packages\\PythonSoftwareFoundation.Python.3.9_qbz5n2kfra8p0\\LocalCache\\local-packages\\Python39\\site-packages\\pandas\\io\\parsers.py:1133\u001b[0m, in \u001b[0;36mTextFileReader.read\u001b[1;34m(self, nrows)\u001b[0m\n\u001b[0;32m   1131\u001b[0m \u001b[38;5;28;01mdef\u001b[39;00m \u001b[38;5;21mread\u001b[39m(\u001b[38;5;28mself\u001b[39m, nrows\u001b[38;5;241m=\u001b[39m\u001b[38;5;28;01mNone\u001b[39;00m):\n\u001b[0;32m   1132\u001b[0m     nrows \u001b[38;5;241m=\u001b[39m _validate_integer(\u001b[38;5;124m\"\u001b[39m\u001b[38;5;124mnrows\u001b[39m\u001b[38;5;124m\"\u001b[39m, nrows)\n\u001b[1;32m-> 1133\u001b[0m     ret \u001b[38;5;241m=\u001b[39m \u001b[38;5;28;43mself\u001b[39;49m\u001b[38;5;241;43m.\u001b[39;49m\u001b[43m_engine\u001b[49m\u001b[38;5;241;43m.\u001b[39;49m\u001b[43mread\u001b[49m\u001b[43m(\u001b[49m\u001b[43mnrows\u001b[49m\u001b[43m)\u001b[49m\n\u001b[0;32m   1135\u001b[0m     \u001b[38;5;66;03m# May alter columns / col_dict\u001b[39;00m\n\u001b[0;32m   1136\u001b[0m     index, columns, col_dict \u001b[38;5;241m=\u001b[39m \u001b[38;5;28mself\u001b[39m\u001b[38;5;241m.\u001b[39m_create_index(ret)\n",
            "File \u001b[1;32m~\\AppData\\Local\\Packages\\PythonSoftwareFoundation.Python.3.9_qbz5n2kfra8p0\\LocalCache\\local-packages\\Python39\\site-packages\\pandas\\io\\parsers.py:2037\u001b[0m, in \u001b[0;36mCParserWrapper.read\u001b[1;34m(self, nrows)\u001b[0m\n\u001b[0;32m   2035\u001b[0m \u001b[38;5;28;01mdef\u001b[39;00m \u001b[38;5;21mread\u001b[39m(\u001b[38;5;28mself\u001b[39m, nrows\u001b[38;5;241m=\u001b[39m\u001b[38;5;28;01mNone\u001b[39;00m):\n\u001b[0;32m   2036\u001b[0m     \u001b[38;5;28;01mtry\u001b[39;00m:\n\u001b[1;32m-> 2037\u001b[0m         data \u001b[38;5;241m=\u001b[39m \u001b[38;5;28;43mself\u001b[39;49m\u001b[38;5;241;43m.\u001b[39;49m\u001b[43m_reader\u001b[49m\u001b[38;5;241;43m.\u001b[39;49m\u001b[43mread\u001b[49m\u001b[43m(\u001b[49m\u001b[43mnrows\u001b[49m\u001b[43m)\u001b[49m\n\u001b[0;32m   2038\u001b[0m     \u001b[38;5;28;01mexcept\u001b[39;00m \u001b[38;5;167;01mStopIteration\u001b[39;00m:\n\u001b[0;32m   2039\u001b[0m         \u001b[38;5;28;01mif\u001b[39;00m \u001b[38;5;28mself\u001b[39m\u001b[38;5;241m.\u001b[39m_first_chunk:\n",
            "File \u001b[1;32mpandas\\_libs\\parsers.pyx:860\u001b[0m, in \u001b[0;36mpandas._libs.parsers.TextReader.read\u001b[1;34m()\u001b[0m\n",
            "File \u001b[1;32mpandas\\_libs\\parsers.pyx:875\u001b[0m, in \u001b[0;36mpandas._libs.parsers.TextReader._read_low_memory\u001b[1;34m()\u001b[0m\n",
            "File \u001b[1;32mpandas\\_libs\\parsers.pyx:952\u001b[0m, in \u001b[0;36mpandas._libs.parsers.TextReader._read_rows\u001b[1;34m()\u001b[0m\n",
            "File \u001b[1;32mpandas\\_libs\\parsers.pyx:1084\u001b[0m, in \u001b[0;36mpandas._libs.parsers.TextReader._convert_column_data\u001b[1;34m()\u001b[0m\n",
            "File \u001b[1;32mpandas\\_libs\\parsers.pyx:1130\u001b[0m, in \u001b[0;36mpandas._libs.parsers.TextReader._convert_tokens\u001b[1;34m()\u001b[0m\n",
            "File \u001b[1;32mpandas\\_libs\\parsers.pyx:1173\u001b[0m, in \u001b[0;36mpandas._libs.parsers.TextReader._convert_with_dtype\u001b[1;34m()\u001b[0m\n",
            "File \u001b[1;32m~\\AppData\\Local\\Packages\\PythonSoftwareFoundation.Python.3.9_qbz5n2kfra8p0\\LocalCache\\local-packages\\Python39\\site-packages\\pandas\\core\\dtypes\\common.py:542\u001b[0m, in \u001b[0;36mis_categorical_dtype\u001b[1;34m(arr_or_dtype)\u001b[0m\n\u001b[0;32m    538\u001b[0m         \u001b[38;5;28;01mreturn\u001b[39;00m \u001b[38;5;28;01mFalse\u001b[39;00m\n\u001b[0;32m    539\u001b[0m     \u001b[38;5;28;01mreturn\u001b[39;00m IntervalDtype\u001b[38;5;241m.\u001b[39mis_dtype(arr_or_dtype)\n\u001b[1;32m--> 542\u001b[0m \u001b[38;5;28;01mdef\u001b[39;00m \u001b[38;5;21mis_categorical_dtype\u001b[39m(arr_or_dtype) \u001b[38;5;241m-\u001b[39m\u001b[38;5;241m>\u001b[39m \u001b[38;5;28mbool\u001b[39m:\n\u001b[0;32m    543\u001b[0m     \u001b[38;5;124;03m\"\"\"\u001b[39;00m\n\u001b[0;32m    544\u001b[0m \u001b[38;5;124;03m    Check whether an array-like or dtype is of the Categorical dtype.\u001b[39;00m\n\u001b[0;32m    545\u001b[0m \n\u001b[1;32m   (...)\u001b[0m\n\u001b[0;32m    567\u001b[0m \u001b[38;5;124;03m    True\u001b[39;00m\n\u001b[0;32m    568\u001b[0m \u001b[38;5;124;03m    \"\"\"\u001b[39;00m\n\u001b[0;32m    570\u001b[0m     \u001b[38;5;28;01mif\u001b[39;00m arr_or_dtype \u001b[38;5;129;01mis\u001b[39;00m \u001b[38;5;28;01mNone\u001b[39;00m:\n",
            "\u001b[1;31mKeyboardInterrupt\u001b[0m: "
          ]
        }
      ],
      "source": [
        "import os\n",
        "os.add_dll_directory(r\"C:\\Program Files\\NVIDIA GPU Computing Toolkit\\CUDA\\v11.6\\bin\")\n",
        "os.add_dll_directory(r\"C:\\Program Files\\NVIDIA GPU Computing Toolkit\\cudnn-windows-x86_64-8.4.0.27_cuda11.6-archive\\bin\")\n",
        "import sys\n",
        "sys.path.append(r'C:\\Users\\Connor McPeak\\Documents\\MACHINELearning\\machine-learning-glades-classifier-master\\glades')\n",
        "import glades\n",
        "import pandas\n",
        "sys.path.append(r'C:\\Users\\Connor McPeak\\Documents\\MACHINELearning\\FinalProj Data Generation')\n",
        "# load the locationLatLong data set\n",
        "locationLatLong_data = pandas.read_csv(r\"C:\\Users\\Connor McPeak\\Documents\\MACHINELearning\\FinalProj Data Generation\\lookingfor1Dataset - Copy (2).data\")\n",
        "# instantiate the glades class\n",
        "rf = glades.GladesClassifier()\n",
        "# train a forest with custom tuning parameters;\n",
        "# predicts whether locationLatLong is cotraveling,\n",
        "rf.grow_forest(\n",
        "    df=locationLatLong_data,\n",
        "    feature_space=['1','2','3','4','5','6','7','8','9','10','11','12','13','14','15','16','17','18','19','20','21','22','23','24','25'],\n",
        "    target_var='CoTravelers',\n",
        "    target_value= 1,\n",
        "    tree_count=100,           # forest will have 25 trees\n",
        "    bootstrap_size=100,       # each tree will be built from 50 random observations\n",
        "    subspace_size=25,         # each tree will be grown using 3 random features\n",
        "    min_points_per_leaf=10,  # stop branching if a leaf would have less than 10 obs\n",
        "    scan_granularity=100,    # scan 100 potential forks for each feature\n",
        "    max_tree_depth=5         # no tree can be more than 3 trees deep\n",
        ")\n",
        "# inspect the forest\n",
        "rf.display_forest()\n",
        "# show feature importance ratings from the forest\n",
        "rf.analyze_forest()\n",
        "# score the data set using the forest, and save as locationLatLong_data_scored\n",
        "# generates columns rf_score and rf_rank\n",
        "locationLatLong_rf_scores = rf.score_data_set(locationLatLong_data)\n",
        "# create the probability map at decile granularity,\n",
        "# based on target probabilities from locationLatLong_data_scored\n",
        "rf.create_probability_map(scored_df=locationLatLong_rf_scores, ntiles=10)\n",
        "# get target probabilities for every data point\n",
        "# generates column rf_probability\n",
        "locationLatLong_probability_scores = rf.apply_probability_map_to_data_set(locationLatLong_rf_scores)\n",
        "# save the forest and probability map into portable files\n",
        "rf.save_forest_as_json('locationLatLong_rf_model.json')\n",
        "rf.save_probability_map_as_csv('locationLatLong_probability_map.csv')"
      ]
    }
  ]
}